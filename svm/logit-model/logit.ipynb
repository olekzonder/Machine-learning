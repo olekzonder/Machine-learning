{
 "cells": [
  {
   "attachments": {
    "image-2.png": {
     "image/png": "[encoded data removed]"
    },
    "image-3.png": {
     "image/png": "[encoded data removed]"
    },
    "image.png": {
     "image/png": "[encoded data removed]"
    }
   },
   "cell_type": "markdown",
   "metadata": {},
   "source": [
    "# Логистическая регрессия\n",
    "\n",
    "Данное задание основано на материалах лекций по логистической регрессии.\n",
    "\n",
    "## Вы научитесь:\n",
    "\n",
    "• работать с логистической регрессией\n",
    "\n",
    " • реализовывать градиентный спуск для ее настройки\n",
    "\n",
    " • использовать регуляризацию\n",
    "\n",
    "## Введение\n",
    "\n",
    "Логистическая регрессия — один из видов линейных классификаторов. Одной из ее особенностей является возможность оценивания вероятностей классов, тогда как большинство линейных классификаторов могут выдавать только номера классов.\n",
    "Логистическая регрессия использует достаточно сложный функционал качества, который не допускает записи решения в явном виде (в отличие от, например, линейной регрессии). Тем не менее, логистическую регрессию можно настраивать с помощью градиентного спуска.\n",
    "Мы будем работать с выборкой, содержащей два признака. Будем считать, что ответы лежат в множестве {-1, 1}. Для настройки логистической регрессии мы будем решать следующую задачу:\n",
    "\n",
    "![1](attachment:image-3.png)\n",
    "\n",
    "Здесь xi1 и xi2 — значение первого и второго признаков соответственно на объекте xi. В этом задании мы будем рассматривать алгоритмы без свободного члена, чтобы упростить работу.\n",
    "Градиентный шаг для весов будет заключаться в одновременном обновлении весов w1 и w2 по следующим формулам (проверьте сами, что здесь действительно выписана производная нашего функционала):\n",
    "\n",
    "![2](attachment:image.png)\n",
    "\n",
    "![3](attachment:image-2.png)\n",
    "\n",
    "Здесь k — размер шага.\n",
    "Линейные методы могут переобучаться и давать плохое качество из-за различных проблем в данных: мультиколлинеарности, зашумленности и т.д. Чтобы избежать этого, следует использовать регуляризацию — она позволяет понизить сложность модели и не допустить переобучения. Сила регуляризации определяется коэффициентом C в формулах, указанных выше.\n",
    "\n",
    "## Реализация в Scikit-Learn\n",
    "\n",
    "Загрузим данные из файла data-logistic.csv. Это двумерная выборка, целевая переменная на которой принимает значения -1 или 1:"
   ]
  },
  {
   "cell_type": "code",
   "execution_count": 17,
   "metadata": {},
   "outputs": [],
   "source": [
    "import pandas as pd\n",
    "df = pd.read_csv('data-logistic.csv',header=None)\n",
    "target = df[0]\n",
    "data = df.loc[:,1:]"
   ]
  },
  {
   "attachments": {},
   "cell_type": "markdown",
   "metadata": {},
   "source": [
    "Введём функции для градиентного спуска:"
   ]
  },
  {
   "cell_type": "code",
   "execution_count": 18,
   "metadata": {},
   "outputs": [],
   "source": [
    "import math\n",
    "def fw1(w1, w2, y, X, k, C):\n",
    "    S = 0\n",
    "    for i in range(len(y)):\n",
    "        S += y[i]*X[1][i]*(1-1/(1+math.exp(-y[i]*(w1*X[1][i] + w2*X[2][i]))))\n",
    "    return w1+(k*(1/len(y))*S)-k*C*w1\n",
    "\n",
    "def fw2(w1, w2, y, X, k, C):\n",
    "    S = 0\n",
    "    for i in range(len(y)):\n",
    "        S += y[i]*X[1][i]*(1-1/(1+math.exp(-y[i]*(w1*X[1][i] + w2*X[2][i]))))\n",
    "    return w1+(k*(1/len(y))*S)-k*C*w2"
   ]
  },
  {
   "attachments": {},
   "cell_type": "markdown",
   "metadata": {},
   "source": [
    "Реализуем градиентный спуск для обычной и L2-регуляризованной (с коэффициентом регуляризации 10) логистической регрессии. Евклидово расстояние между векторами весов на соседних итерациях должно быть не больше 1e-5, а количество итераций ограничим сверху десятью тысячами:"
   ]
  },
  {
   "cell_type": "code",
   "execution_count": 41,
   "metadata": {},
   "outputs": [],
   "source": [
    "def grad(y,X,C=0):\n",
    "    i = 0\n",
    "    k = 0.1\n",
    "    w1 = 0\n",
    "    w2 = 0\n",
    "    max_iter = 10000\n",
    "    err = 1e-5\n",
    "    while True:\n",
    "        i += 1\n",
    "        w1_new = fw1(w1,w2,y,X,k,C)\n",
    "        w2_new = fw2(w1,w2,y,X,k,C)\n",
    "        e = math.sqrt((w1_new - w1)**2 + (w2_new - w2) ** 2)\n",
    "        if e <= err or i == max_iter:\n",
    "            break\n",
    "        else:\n",
    "            w1,w2 = w1_new,w2_new\n",
    "    return [w1_new,w2_new]"
   ]
  },
  {
   "attachments": {},
   "cell_type": "markdown",
   "metadata": {},
   "source": [
    "Запустим градиентный спуск:"
   ]
  },
  {
   "cell_type": "code",
   "execution_count": 42,
   "metadata": {},
   "outputs": [],
   "source": [
    "w1, w2 = grad(target, data)\n",
    "rw1, rw2 = grad(target, data, C=10.0)"
   ]
  },
  {
   "attachments": {},
   "cell_type": "markdown",
   "metadata": {},
   "source": [
    "С помощью сигмоидной функции получим оценки вероятности:"
   ]
  },
  {
   "cell_type": "code",
   "execution_count": 43,
   "metadata": {},
   "outputs": [],
   "source": [
    "def a(X, w1, w2):\n",
    "    return 1/(1 + math.exp(-w1 * X[1] - w2 * X[2]))\n",
    "\n",
    "score = data.apply(lambda x: a(x, w1, w2), axis=1)\n",
    "rscore = data.apply(lambda x: a(x, rw1, rw2), axis=1)"
   ]
  },
  {
   "attachments": {},
   "cell_type": "markdown",
   "metadata": {},
   "source": [
    "Получим значения AUC-ROC без регуляризации значений и при её использовании:"
   ]
  },
  {
   "cell_type": "code",
   "execution_count": 44,
   "metadata": {},
   "outputs": [
    {
     "name": "stdout",
     "output_type": "stream",
     "text": [
      "0.936, 0.936\n"
     ]
    }
   ],
   "source": [
    "from sklearn.metrics import roc_auc_score\n",
    "auc = roc_auc_score(target, score)\n",
    "rauc = roc_auc_score(target, rscore)\n",
    "\n",
    "print(\"{}, {}\".format(round(auc,3),round(rauc,3)))"
   ]
  },
  {
   "attachments": {},
   "cell_type": "markdown",
   "metadata": {},
   "source": [
    "При установке слишком длинного шага k алгоритм перестаёт сходиться."
   ]
  }
 ],
 "metadata": {
  "kernelspec": {
   "display_name": "Python 3",
   "language": "python",
   "name": "python3"
  },
  "language_info": {
   "codemirror_mode": {
    "name": "ipython",
    "version": 3
   },
   "file_extension": ".py",
   "mimetype": "text/x-python",
   "name": "python",
   "nbconvert_exporter": "python",
   "pygments_lexer": "ipython3",
   "version": "3.10.10"
  },
  "orig_nbformat": 4
 },
 "nbformat": 4,
 "nbformat_minor": 2
}
