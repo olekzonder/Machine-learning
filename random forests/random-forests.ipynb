{
 "cells": [
  {
   "attachments": {},
   "cell_type": "markdown",
   "metadata": {},
   "source": [
    "# Размер случайного леса\n",
    "\n",
    "Данное задание основано на материалах лекций по логическим методам и направлено на знакомство со случайными лесами (Random Forests).\n",
    "## Вы научитесь:\n",
    "\n",
    "• работать со случайным лесом — одним из наиболее распространенных семейств алгоритмов\n",
    "\n",
    "• решать с его помощью задачи регрессии\n",
    "\n",
    "• подбирать параметры случайного леса\n",
    "\n",
    "## Введение\n",
    "Случайный лес — это модель классификации, объединяющая некоторое количество решающих деревьев в одну композицию, за счет чего улучшается их качество работы и обобщающая способность. Деревья строятся независимо друг от друга. Чтобы они отличались друг от друга, обучение проводится не на всей обучающей выборке, а на ее случайном подмножестве. Также, для дальнейшего уменьшения схожести деревьев, оптимальный признак для разбиения выбирается не из всех возможных признаков, а лишь из их случайного подмножества. Прогнозы, выданные деревьями, объединяются в один ответ путем усреднения.\n",
    "\n",
    "Особенность случайного леса заключается в том, что он не переобучается по мере увеличения количества деревьев в композиции. Это достигается за счет того, что деревья не зависят друг от друга, и поэтому добавление нового дерева в композицию не усложняет модель, а лишь понижает уровень шума в прогнозах.\n",
    "\n",
    "## Реализация в Scikit-Learn\n",
    "Загрузим датасет abalone.csv. Это датасет, в котором требуется предсказать возраст ракушки (число колец) по физическим измерениям."
   ]
  },
  {
   "cell_type": "code",
   "execution_count": 16,
   "metadata": {},
   "outputs": [],
   "source": [
    "import pandas as pd\n",
    "data = pd.read_csv('abalone.csv') "
   ]
  },
  {
   "attachments": {},
   "cell_type": "markdown",
   "metadata": {},
   "source": [
    "Преобразуем признак Sex в числовой: значение F должно перейти в -1, I — в 0, M — в 1. "
   ]
  },
  {
   "cell_type": "code",
   "execution_count": 17,
   "metadata": {},
   "outputs": [],
   "source": [
    "data['Sex'] = data['Sex'].map(lambda x: 1 if x == 'M' else (-1 if x == 'F' else 0))"
   ]
  },
  {
   "attachments": {},
   "cell_type": "markdown",
   "metadata": {},
   "source": [
    "Разделим содержимое файлов на признаки и целевую переменную. В последнем столбце записана целевая переменная, в остальных — признаки."
   ]
  },
  {
   "cell_type": "code",
   "execution_count": 18,
   "metadata": {},
   "outputs": [],
   "source": [
    "train_X=data.iloc[:,:-1].values\n",
    "train_Y=data.iloc[:,-1:].values.ravel()"
   ]
  },
  {
   "attachments": {},
   "cell_type": "markdown",
   "metadata": {},
   "source": [
    "В качестве меры качества воспользуемся коэффициентом детерминации (sklearn.metrics.r2_score):"
   ]
  },
  {
   "cell_type": "code",
   "execution_count": 19,
   "metadata": {},
   "outputs": [],
   "source": [
    "from sklearn.metrics import make_scorer\n",
    "from  sklearn.metrics import r2_score\n",
    "ms=make_scorer(r2_score)\n",
    "validationTest={}"
   ]
  },
  {
   "attachments": {},
   "cell_type": "markdown",
   "metadata": {},
   "source": [
    "Составим конструктор кросс-валидации по 5 блокам"
   ]
  },
  {
   "cell_type": "code",
   "execution_count": 20,
   "metadata": {},
   "outputs": [],
   "source": [
    "from sklearn.model_selection import KFold\n",
    "kf = KFold(random_state=1,shuffle=True)"
   ]
  },
  {
   "attachments": {},
   "cell_type": "markdown",
   "metadata": {},
   "source": [
    "Обучим случайный лес с различным числом деревьев: от 1 до 50. Для каждого варианта оценим качество работы полученного леса на кросс-валидации по 5 блокам и определим, при каком минимальном количестве деревьев случайный лес показывает качество\n",
    "на кросс-валидации выше 0.52."
   ]
  },
  {
   "cell_type": "code",
   "execution_count": 21,
   "metadata": {},
   "outputs": [],
   "source": [
    "from sklearn.ensemble import RandomForestRegressor\n",
    "from sklearn.model_selection import cross_val_score\n",
    "for N in range(50):\n",
    "    n_estimators=N+1\n",
    "    regressor = RandomForestRegressor(n_estimators,random_state=1)\n",
    "    scores = cross_val_score(regressor, train_X, train_Y, scoring=ms ,cv=kf)\n",
    "    val=scores.mean()\n",
    "    if val>0.52:\n",
    "        validationTest[n_estimators]=val"
   ]
  },
  {
   "cell_type": "code",
   "execution_count": 22,
   "metadata": {},
   "outputs": [
    {
     "name": "stdout",
     "output_type": "stream",
     "text": [
      "Минимальное количество деревьев: 21\n"
     ]
    }
   ],
   "source": [
    "print(f\"Минимальное количество деревьев: {min(validationTest.keys())}\")"
   ]
  }
 ],
 "metadata": {
  "kernelspec": {
   "display_name": "Python 3",
   "language": "python",
   "name": "python3"
  },
  "language_info": {
   "codemirror_mode": {
    "name": "ipython",
    "version": 3
   },
   "file_extension": ".py",
   "mimetype": "text/x-python",
   "name": "python",
   "nbconvert_exporter": "python",
   "pygments_lexer": "ipython3",
   "version": "3.11.2"
  },
  "orig_nbformat": 4
 },
 "nbformat": 4,
 "nbformat_minor": 2
}
