{
 "cells": [
  {
   "cell_type": "markdown",
   "metadata": {},
   "source": [
    "# Подход 1: градиентный бустинг \"в лоб\"\n",
    "\n",
    "Один из самых универсальных алгоритмов, изученных в нашем курсе, является градиентный бустинг. Он не очень требователен к данным, восстанавливает нелинейные зависимости, и хорошо работает на многих наборах данных, что и обуславливает его популярность. Вполне разумной мыслью будет попробовать именно его в первую очередь.\n",
    "\n",
    "## Шаг 1: считать таблицу с признаками"
   ]
  },
  {
   "cell_type": "code",
   "execution_count": 67,
   "metadata": {},
   "outputs": [
    {
     "name": "stdout",
     "output_type": "stream",
     "text": [
      "first_blood_time: 19553 пропусков\n",
      "first_blood_team: 19553 пропусков\n",
      "first_blood_player1: 19553 пропусков\n",
      "first_blood_player2: 43987 пропусков\n",
      "radiant_bottle_time: 15691 пропусков\n",
      "radiant_courier_time: 692 пропусков\n",
      "radiant_flying_courier_time: 27479 пропусков\n",
      "radiant_first_ward_time: 1836 пропусков\n",
      "dire_bottle_time: 16143 пропусков\n",
      "dire_courier_time: 676 пропусков\n",
      "dire_flying_courier_time: 26098 пропусков\n",
      "dire_first_ward_time: 1826 пропусков\n"
     ]
    }
   ],
   "source": [
    "import warnings\n",
    "warnings.filterwarnings(\"ignore\")\n",
    "import pandas as pd\n",
    "\n",
    "train = pd.read_csv('features.csv', index_col='match_id')\n",
    "test = pd.read_csv('features_test.csv',index_col='match_id')\n",
    "\n",
    "# Удаление признаков, связанных с итогами матча\n",
    "train.drop(['duration','tower_status_radiant','tower_status_dire','barracks_status_radiant','barracks_status_dire'],axis=1,inplace=True)\n",
    "\n",
    "#целевая переменная\n",
    "y_train = train['radiant_win']\n",
    "\n",
    "del train['radiant_win']\n",
    "\n",
    "# нахождение пропусков\n",
    "for i in list(train):\n",
    "    if train[i].isnull().sum() > 0:\n",
    "        print(f\"{i}: {train[i].isnull().sum()} пропусков\")\n",
    "\n",
    "# заполнение пропусков нулями\n",
    "x_train = train.fillna(0)\n",
    "x_test = test.fillna(0)"
   ]
  },
  {
   "cell_type": "markdown",
   "metadata": {},
   "source": [
    "**Пропуски имеют**:\n",
    "- информация о первой крови (в течение 5 минут игры не происходит первая кровь):\n",
    "    - время;\n",
    "    - команда, совершившая первую кровь;\n",
    "    - игрок 1;\n",
    "    - игрок 2;\n",
    "- время покупки предметов (игроки не покупают предметы):\n",
    "    - время покупки предмета bottle командой Radiant;\n",
    "    - время покупки предмета courier командой Radiant;\n",
    "    - время покупки предмета flying courier командой Radiant;\n",
    "    - время покупки предмета bottle командой Dire;\n",
    "    - время покупки предмета courier командой Dire;\n",
    "    - время покупки предмета flying courier командой Dire;\n",
    "- время установки наблюдателя (игроки не устанавливают наблюдателей):\n",
    "    - время установки командой Radiant первого \"наблюдателя\";\n",
    "    - время установки командой Dire первого \"наблюдателя\"\n",
    "\n",
    "**Целевая переменная**: radiant_win (исход матча: 1 - победа Radiant, 0 - победа Dire)"
   ]
  },
  {
   "cell_type": "markdown",
   "metadata": {},
   "source": [
    "## Шаг 2: подобрать количество деревьев для модели"
   ]
  },
  {
   "cell_type": "code",
   "execution_count": 14,
   "metadata": {},
   "outputs": [
    {
     "name": "stdout",
     "output_type": "stream",
     "text": [
      "10 деревьев: затрачено 0:00:30.541657, показатель AUC-ROC: 0.665\n",
      "15 деревьев: затрачено 0:00:44.821942, показатель AUC-ROC: 0.676\n",
      "30 деревьев: затрачено 0:01:28.413156, показатель AUC-ROC: 0.69\n",
      "50 деревьев: затрачено 0:02:29.616339, показатель AUC-ROC: 0.697\n",
      "100 деревьев: затрачено 0:04:55.918992, показатель AUC-ROC: 0.706\n",
      "200 деревьев: затрачено 0:09:51.659150, показатель AUC-ROC: 0.714\n"
     ]
    }
   ],
   "source": [
    "import datetime\n",
    "import numpy as np\n",
    "from sklearn.model_selection import KFold, cross_val_score\n",
    "from sklearn.ensemble import GradientBoostingClassifier\n",
    "\n",
    "cv = KFold(n_splits=5,shuffle=True,random_state=42)\n",
    "scores = []\n",
    "trees = [10,15,30,50,100,200]\n",
    "\n",
    "for n in trees:\n",
    "    model  = GradientBoostingClassifier(n_estimators=n,random_state=42)\n",
    "    start = datetime.datetime.now()\n",
    "    score = cross_val_score(model,x_train,y_train,cv=cv,scoring='roc_auc')\n",
    "    print(f\"{n} деревьев: затрачено {datetime.datetime.now() - start}, показатель AUC-ROC: {round(np.mean(score),3)}\")\n",
    "    scores.append(round(np.mean(score),3))"
   ]
  },
  {
   "cell_type": "code",
   "execution_count": 16,
   "metadata": {},
   "outputs": [
    {
     "data": {
      "image/png": "[encoded data removed]",
      "text/plain": [
       "<Figure size 640x480 with 1 Axes>"
      ]
     },
     "metadata": {},
     "output_type": "display_data"
    }
   ],
   "source": [
    "import matplotlib.pyplot as plt\n",
    "plt.plot(trees,scores)\n",
    "plt.xlabel('кол-во деревьев')\n",
    "plt.ylabel('AUC-ROC')\n",
    "\n",
    "plt.show()"
   ]
  },
  {
   "cell_type": "markdown",
   "metadata": {},
   "source": [
    "При увеличении количества деревьев увеличивается показатель метрики AUC-ROС. Наиболее оптимальным количеством деревьем является 100 деревьев: при дальнейшем увеличении количества деревьев временные затраты перестают соответствовать увеличению показателю метрики AUC-ROC.\n",
    "\n",
    "# Подход 2: логистическая регрессия\n",
    "Линейные методы работают гораздо быстрее композиций деревьев, поэтому кажется разумным воспользоваться именно ими для ускорения анализа данных. Одним из наиболее распространенных методов для классификации является логистическая регрессия.\n",
    "## Шаг 1: загрузка данных"
   ]
  },
  {
   "cell_type": "code",
   "execution_count": 68,
   "metadata": {},
   "outputs": [],
   "source": [
    "x_scaled = StandardScaler().fit_transform(train.fillna(0))"
   ]
  },
  {
   "cell_type": "markdown",
   "metadata": {},
   "source": [
    "# Шаг 2: подбор C (параметра регуляризации)"
   ]
  },
  {
   "cell_type": "code",
   "execution_count": 71,
   "metadata": {},
   "outputs": [
    {
     "name": "stdout",
     "output_type": "stream",
     "text": [
      "C=1e-07: качество: 0.687, затраченное время: 0:00:01.012087\n",
      "C=0.0001: качество: 0.711, затраченное время: 0:00:01.232378\n",
      "C=0.001: качество: 0.716, затраченное время: 0:00:02.175142\n",
      "C=1: качество: 0.716, затраченное время: 0:00:03.140787\n"
     ]
    }
   ],
   "source": [
    "from sklearn.linear_model import LogisticRegression\n",
    "\n",
    "kf = KFold(n_splits=5, shuffle=True, random_state=1)\n",
    "C = [1e-7, 1e-4, 1e-3, 1]\n",
    "def score_roc_auc(x):\n",
    "    for i in C:\n",
    "        logit = LogisticRegression(C=i, random_state=1, penalty='l2')\n",
    "        start = datetime.datetime.now()\n",
    "        score = cross_val_score(logit, x, y_train, scoring='roc_auc', cv=kf)\n",
    "        print(f\"C={i}: качество: {round(score.mean(),3)}, затраченное время: {datetime.datetime.now() - start}\")\n",
    "score_roc_auc(x_scaled)"
   ]
  },
  {
   "cell_type": "markdown",
   "metadata": {},
   "source": [
    "Качество у логистической регрессии над всеми исходными признаками получилось равным 0.716. Примерно такое же качество возможно при использовании 200 деревьев при градиентном бустинге \"в лоб\". Однако затраты по времени при использовании логистической регрессии ничтожно малы по сравнению с градиентным бустингом.\n",
    "\n",
    "Уберём категориальные признаки:"
   ]
  },
  {
   "cell_type": "code",
   "execution_count": 83,
   "metadata": {},
   "outputs": [
    {
     "name": "stdout",
     "output_type": "stream",
     "text": [
      "C=1e-07: качество: 0.513, затраченное время: 0:00:01.021116\n",
      "C=0.0001: качество: 0.513, затраченное время: 0:00:00.999631\n",
      "C=0.001: качество: 0.513, затраченное время: 0:00:01.071809\n",
      "C=1: качество: 0.513, затраченное время: 0:00:01.070044\n"
     ]
    }
   ],
   "source": [
    "# удаление категориальных признаков\n",
    "x_clean = x_train.drop(['lobby_type','r1_hero', 'r2_hero', 'r3_hero', 'r4_hero', 'r5_hero','d1_hero', 'd2_hero', 'd3_hero', 'd4_hero', 'd5_hero','first_blood_player1', 'first_blood_player2'], axis=1)\n",
    "x_clean_scaled = StandardScaler().fit_transform(x_clean)\n",
    "score_roc_auc(x_clean)"
   ]
  },
  {
   "cell_type": "markdown",
   "metadata": {},
   "source": [
    "Качество изменилось при малом параметре регуляризации C, но в целом увеличение качества ничтожно мало.\n",
    "\n",
    "Определим количество героев:"
   ]
  },
  {
   "cell_type": "code",
   "execution_count": 77,
   "metadata": {},
   "outputs": [
    {
     "name": "stdout",
     "output_type": "stream",
     "text": [
      "Всего 108 идентификаторов героев\n"
     ]
    }
   ],
   "source": [
    "heroes = ['r1_hero', 'r2_hero', 'r3_hero', 'r4_hero', 'r5_hero',\n",
    "        'd1_hero', 'd2_hero', 'd3_hero', 'd4_hero', 'd5_hero']\n",
    "unique = np.array([])\n",
    "for hero in heroes:\n",
    "    unique = np.append(unique,pd.unique(x_train[hero]))\n",
    "print(f\"Всего {np.shape(pd.value_counts(unique))[0]} идентификаторов героев\")"
   ]
  },
  {
   "cell_type": "markdown",
   "metadata": {},
   "source": [
    "Добавим \"мешок слов\" по героям:"
   ]
  },
  {
   "cell_type": "code",
   "execution_count": 87,
   "metadata": {},
   "outputs": [
    {
     "name": "stdout",
     "output_type": "stream",
     "text": [
      "C=1e-07: качество: 0.706, затраченное время: 0:00:01.417933\n",
      "C=0.0001: качество: 0.743, затраченное время: 0:00:01.638844\n",
      "C=0.001: качество: 0.752, затраченное время: 0:00:02.804161\n",
      "C=1: качество: 0.752, затраченное время: 0:00:04.675023\n"
     ]
    }
   ],
   "source": [
    "hero_c = [c for c in x_train.columns if 'hero' in c]\n",
    "heroes_ids = np.unique(x_train[hero_c])\n",
    "\n",
    "word_bucket = {}\n",
    "for id in heroes_ids:\n",
    "    r = [(x_train['r%d_hero' % n] == id) for n in range(1, 6)]\n",
    "    d = [(x_train['d%d_hero' % n] == id) for n in range(1, 6)]\n",
    "    word_bucket['hero%s' % id] = sum(r) - sum(d)\n",
    "x_bucket = x_clean.assign(**word_bucket)\n",
    "x_bucket_scaled = StandardScaler().fit_transform(x_bucket)\n",
    "\n",
    "score_roc_auc(x_bucket_scaled)"
   ]
  },
  {
   "cell_type": "markdown",
   "metadata": {},
   "source": [
    "Качество увеличилось до 0.752, так как используется больше информации о героях.\n",
    "\n",
    "## Шаг 3: построениее предсказания вероятностей победы команды Radiant для тестовой выборки с помощью лучшей из изученных моделей"
   ]
  },
  {
   "cell_type": "code",
   "execution_count": 89,
   "metadata": {},
   "outputs": [
    {
     "name": "stdout",
     "output_type": "stream",
     "text": [
      "Минимальное значение прогноза: 0.009845169960294841\n",
      "Максимальное значение прогноза: 0.9948514209566268\n"
     ]
    }
   ],
   "source": [
    "C = 0.001\n",
    "logit = LogisticRegression(C=C, random_state=1, penalty='l2')\n",
    "logit.fit(x_bucket_scaled,y_train)\n",
    "x_test_clean = x_test.drop(['lobby_type','r1_hero', 'r2_hero', 'r3_hero', 'r4_hero', 'r5_hero','d1_hero', 'd2_hero', 'd3_hero', 'd4_hero', 'd5_hero','first_blood_player1', 'first_blood_player2'], axis=1)\n",
    "hero_c = [c for c in x_test.columns if 'hero' in c]\n",
    "heroes_ids = np.unique(x_test[hero_c])\n",
    "\n",
    "word_bucket = {}\n",
    "for id in heroes_ids:\n",
    "    r = [(x_test['r%d_hero' % n] == id) for n in range(1, 6)]\n",
    "    d = [(x_test['d%d_hero' % n] == id) for n in range(1, 6)]\n",
    "    word_bucket['hero%s' % id] = sum(r) - sum(d)\n",
    "x_test_bucket = x_test_clean.assign(**word_bucket)\n",
    "x_test_bucket_scaled = StandardScaler().fit_transform(x_test_bucket)\n",
    "\n",
    "pred = logit.predict_proba(x_test_bucket_scaled)[:, 1]\n",
    "print(f\"Минимальное значение прогноза: {pred.min()}\")\n",
    "print(f\"Максимальное значение прогноза: {pred.max()}\")"
   ]
  }
 ],
 "metadata": {
  "kernelspec": {
   "display_name": "Python 3",
   "language": "python",
   "name": "python3"
  },
  "language_info": {
   "codemirror_mode": {
    "name": "ipython",
    "version": 3
   },
   "file_extension": ".py",
   "mimetype": "text/x-python",
   "name": "python",
   "nbconvert_exporter": "python",
   "pygments_lexer": "ipython3",
   "version": "3.11.5"
  },
  "orig_nbformat": 4
 },
 "nbformat": 4,
 "nbformat_minor": 2
}
