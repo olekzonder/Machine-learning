{
 "cells": [
  {
   "cell_type": "markdown",
   "metadata": {},
   "source": [
    "# Выбор метрики"
   ]
  },
  {
   "attachments": {},
   "cell_type": "markdown",
   "metadata": {},
   "source": [
    "### 1. Загрузка датасета"
   ]
  },
  {
   "attachments": {},
   "cell_type": "markdown",
   "metadata": {},
   "source": [
    " The Boston house-price data of Harrison, D. and Rubinfeld, D.L. 'Hedonic\n",
    " prices and the demand for clean air', J. Environ. Economics & Management,\n",
    " vol.5, 81-102, 1978.   Used in Belsley, Kuh & Welsch, 'Regression diagnostics\n",
    " ...', Wiley, 1980.   N.B. Various transformations are used in the table on\n",
    " pages 244-261 of the latter.\n",
    "\n",
    " Variables in order:\n",
    " CRIM     per capita crime rate by town\n",
    "\n",
    " ZN       proportion of residential land zoned for lots over 25,000 sq.ft.\n",
    "\n",
    " INDUS    proportion of non-retail business acres per town\n",
    "\n",
    " CHAS     Charles River dummy variable (= 1 if tract bounds river; 0 otherwise)\n",
    "\n",
    " NOX      nitric oxides concentration (parts per 10 million)\n",
    "\n",
    " RM       average number of rooms per dwelling\n",
    "\n",
    " AGE      proportion of owner-occupied units built prior to 1940\n",
    "\n",
    " DIS      weighted distances to five Boston employment centres\n",
    "\n",
    " RAD      index of accessibility to radial highways\n",
    "\n",
    " TAX      full-value property-tax rate per $10,000\n",
    "\n",
    " PTRATIO  pupil-teacher ratio by town\n",
    " \n",
    " B        1000(Bk - 0.63)^2 where Bk is the proportion of blacks by town\n",
    "\n",
    " LSTAT    % lower status of the population\n",
    "\n",
    " MEDV     Median value of owner-occupied homes in $1000's\n",
    " "
   ]
  },
  {
   "cell_type": "code",
   "execution_count": 24,
   "metadata": {},
   "outputs": [],
   "source": [
    "import numpy\n",
    "import pandas\n",
    "\n",
    "# из scikit-learn 1.2 убрали бостонский датасет из-за расизма\n",
    "data_url = \"http://lib.stat.cmu.edu/datasets/boston\"\n",
    "raw_df = pandas.read_csv(data_url, sep=\"\\s+\", skiprows=22, header=None)\n",
    "data = numpy.hstack([raw_df.values[::2, :], raw_df.values[1::2, :2]])\n",
    "target = raw_df.values[1::2, 2]"
   ]
  },
  {
   "cell_type": "markdown",
   "metadata": {},
   "source": [
    "## Масштабирование выборки"
   ]
  },
  {
   "cell_type": "code",
   "execution_count": 25,
   "metadata": {},
   "outputs": [
    {
     "data": {
      "text/html": [
       "<div>\n",
       "<style scoped>\n",
       "    .dataframe tbody tr th:only-of-type {\n",
       "        vertical-align: middle;\n",
       "    }\n",
       "\n",
       "    .dataframe tbody tr th {\n",
       "        vertical-align: top;\n",
       "    }\n",
       "\n",
       "    .dataframe thead th {\n",
       "        text-align: right;\n",
       "    }\n",
       "</style>\n",
       "<table border=\"1\" class=\"dataframe\">\n",
       "  <thead>\n",
       "    <tr style=\"text-align: right;\">\n",
       "      <th></th>\n",
       "      <th>Score</th>\n",
       "    </tr>\n",
       "    <tr>\n",
       "      <th>p</th>\n",
       "      <th></th>\n",
       "    </tr>\n",
       "  </thead>\n",
       "  <tbody>\n",
       "    <tr>\n",
       "      <th>1</th>\n",
       "      <td>-14.707351</td>\n",
       "    </tr>\n",
       "  </tbody>\n",
       "</table>\n",
       "</div>"
      ],
      "text/plain": [
       "       Score\n",
       "p           \n",
       "1 -14.707351"
      ]
     },
     "execution_count": 25,
     "metadata": {},
     "output_type": "execute_result"
    }
   ],
   "source": [
    "from sklearn.neighbors import KNeighborsRegressor\n",
    "from sklearn.preprocessing import scale\n",
    "from sklearn.model_selection import KFold, cross_val_score\n",
    "data = scale(data)\n",
    "\n",
    "cv = KFold(len(data), shuffle=True,random_state=42)\n",
    "validation_score = {}\n",
    "for p in range(1,11):\n",
    "    model = KNeighborsRegressor(n_neighbors=5, weights='distance', p=p)\n",
    "    model.fit(data,target)\n",
    "    validation_score[p] = cross_val_score(model, X=data,y=target,scoring='neg_mean_squared_error',cv=cv).mean()\n",
    "validation_df = pandas.DataFrame.from_dict(validation_score,orient='index')\n",
    "validation_df.index.name='p'\n",
    "validation_df.columns=['Score']\n",
    "validation_df.sort_values(['Score'],ascending=False).head(1)\n"
   ]
  }
 ],
 "metadata": {
  "kernelspec": {
   "display_name": "Python 3",
   "language": "python",
   "name": "python3"
  },
  "language_info": {
   "codemirror_mode": {
    "name": "ipython",
    "version": 3
   },
   "file_extension": ".py",
   "mimetype": "text/x-python",
   "name": "python",
   "nbconvert_exporter": "python",
   "pygments_lexer": "ipython3",
   "version": "3.10.9"
  },
  "orig_nbformat": 4
 },
 "nbformat": 4,
 "nbformat_minor": 2
}
